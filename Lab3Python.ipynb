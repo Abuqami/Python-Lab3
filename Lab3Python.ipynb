{
 "cells": [
  {
   "cell_type": "code",
   "execution_count": null,
   "id": "4a89a7be",
   "metadata": {},
   "outputs": [],
   "source": [
    "'''\n",
    "1) Using range(), make a range from 45 to 210, using a for loop iterate over the sequence and print the elements. \n",
    "Skip the number 100 and break the loop at 205.\n",
    "2) Using a while loop and input, do the following:\n",
    "\n",
    "    Ask the the user : \"what is the product of 7 * 24 ?\"\n",
    "    check if the answer is right then exit the loop and print \"You answered this Question correctly\".\n",
    "    if the answer is wrong, then print \"Your Answer is wrong try again..\" and show the user the question again.\n",
    "\n",
    "'''\n"
   ]
  },
  {
   "cell_type": "code",
   "execution_count": null,
   "id": "78dba014",
   "metadata": {},
   "outputs": [],
   "source": [
    "#Question1\n",
    "for num in range(45,210):\n",
    "    if(num == 100):\n",
    "        continue\n",
    "    elif(num == 205):\n",
    "        break\n",
    "    print(num)"
   ]
  },
  {
   "cell_type": "code",
   "execution_count": 1,
   "id": "7fbbb2bb",
   "metadata": {},
   "outputs": [
    {
     "name": "stdout",
     "output_type": "stream",
     "text": [
      "what is the product of 7 * 24 ? 100\n",
      "Your Answer is wrong try again..\n",
      "what is the product of 7 * 24 ? string\n",
      "Your input should be an integer 😀\n",
      "what is the product of 7 * 24 ? 10.1\n",
      "Your input should be an integer 😀\n",
      "what is the product of 7 * 24 ? 168\n",
      "You answered this Question correctly\n"
     ]
    }
   ],
   "source": [
    "#Question2\n",
    "result = 0\n",
    "while(result != 168):\n",
    "    try:\n",
    "        result = int(input('what is the product of 7 * 24 ? '))\n",
    "        if result != 168:\n",
    "            print('Your Answer is wrong try again..')\n",
    "    except (ValueError):\n",
    "        print('Your input should be an integer 😀')\n",
    "print('You answered this Question correctly')\n",
    "\n",
    "\n"
   ]
  }
 ],
 "metadata": {
  "kernelspec": {
   "display_name": "Python 3 (ipykernel)",
   "language": "python",
   "name": "python3"
  },
  "language_info": {
   "codemirror_mode": {
    "name": "ipython",
    "version": 3
   },
   "file_extension": ".py",
   "mimetype": "text/x-python",
   "name": "python",
   "nbconvert_exporter": "python",
   "pygments_lexer": "ipython3",
   "version": "3.11.3"
  }
 },
 "nbformat": 4,
 "nbformat_minor": 5
}
